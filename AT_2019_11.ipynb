{
 "cells": [
  {
   "cell_type": "code",
   "execution_count": null,
   "metadata": {},
   "outputs": [],
   "source": [
    "import numpy as np\n",
    "import pandas as pd\n",
    "import matplotlib.pyplot as plt\n",
    "from pylab import rcParams\n",
    "import warnings\n",
    "\n",
    "from sklearn.metrics import log_loss\n",
    "from sklearn.model_selection import train_test_split\n",
    "from sklearn.linear_model import LogisticRegression\n",
    "from sklearn.tree import DecisionTreeClassifier as DTR\n",
    "from sklearn.ensemble import RandomForestClassifier as RF\n",
    "from sklearn.linear_model import LinearRegression as LR\n",
    "\n",
    "from sklearn import preprocessing\n",
    "from sklearn.metrics import accuracy_score\n",
    "from sklearn.metrics import log_loss\n",
    "\n",
    "warnings.filterwarnings('ignore')\n",
    "%matplotlib inline"
   ]
  },
  {
   "cell_type": "code",
   "execution_count": null,
   "metadata": {},
   "outputs": [],
   "source": [
    "data = pd.read_csv('train.tar.gz', compression='gzip', header=0, sep=';', quotechar='\"', nrows=500000)\n",
    "data.head()"
   ]
  },
  {
   "cell_type": "code",
   "execution_count": null,
   "metadata": {},
   "outputs": [],
   "source": [
    "correl = data.corr()\n",
    "correl.label"
   ]
  },
  {
   "cell_type": "code",
   "execution_count": null,
   "metadata": {},
   "outputs": [],
   "source": [
    "df.dtypes"
   ]
  },
  {
   "cell_type": "code",
   "execution_count": null,
   "metadata": {},
   "outputs": [],
   "source": [
    "df['id'] = df['id'].astype(str)\n",
    "df['id'].dtype"
   ]
  },
  {
   "cell_type": "code",
   "execution_count": null,
   "metadata": {},
   "outputs": [],
   "source": [
    "df['ocean_proximity'].value_counts()"
   ]
  },
  {
   "cell_type": "code",
   "execution_count": null,
   "metadata": {},
   "outputs": [],
   "source": [
    "#added mean, median, mode\n",
    "plt.figure(figsize = (16, 8))\n",
    "\n",
    "sns.distplot(df['median_house_value'])\n",
    "\n",
    "y = np.linspace(0, 0.000005, 100)\n",
    "plt.plot([target_mean] * 100, y, label='mean', linestyle=':', linewidth=4)\n",
    "plt.plot([target_median] * 100, y, label='median', linestyle='--', linewidth=4)\n",
    "plt.plot([target_mode] * 100, y, label='mode', linestyle='-.', linewidth=4)\n",
    "\n",
    "plt.title('Distribution of median_house_value')\n",
    "plt.legend()\n",
    "plt.show()"
   ]
  },
  {
   "cell_type": "code",
   "execution_count": null,
   "metadata": {},
   "outputs": [],
   "source": [
    "#Violin plot\n",
    "plt.figure(figsize=(16, 8))\n",
    "\n",
    "sns.violinplot(df['median_house_value'], df['ocean_proximity'])\n",
    "\n",
    "plt.xlabel('median_house_value')\n",
    "plt.ylabel('ocean_proximity')\n",
    "plt.title('Distribution of median_house_value by ocean_proximity')\n",
    "plt.show()"
   ]
  },
  {
   "cell_type": "code",
   "execution_count": null,
   "metadata": {},
   "outputs": [],
   "source": [
    "df = pd.DataFrame({'Col1':['a', 'b', 'c', 'd', 'e', 'f', 'g', 'h'],\n",
    "                   'Col2':[1, 3, 5, 7, 9, 11, 13, 15]}, columns=['Col1', 'Col2'])"
   ]
  },
  {
   "cell_type": "code",
   "execution_count": null,
   "metadata": {},
   "outputs": [],
   "source": [
    "df.to_csv('Test.csv', sep = ';', index = False)"
   ]
  },
  {
   "cell_type": "code",
   "execution_count": null,
   "metadata": {},
   "outputs": [],
   "source": [
    "df_new = pd.read_csv('Test.csv', sep = ';')"
   ]
  },
  {
   "cell_type": "code",
   "execution_count": null,
   "metadata": {},
   "outputs": [],
   "source": [
    "from datetime import date"
   ]
  },
  {
   "cell_type": "code",
   "execution_count": null,
   "metadata": {},
   "outputs": [],
   "source": [
    "b.index = pd.to_datetime(b.index, format = '%Y-%m-%d')"
   ]
  },
  {
   "cell_type": "code",
   "execution_count": null,
   "metadata": {},
   "outputs": [],
   "source": [
    "b.index.year"
   ]
  },
  {
   "cell_type": "code",
   "execution_count": null,
   "metadata": {},
   "outputs": [],
   "source": [
    "b = pd.Series(a)\n",
    "b = b.astype(np.float64)"
   ]
  },
  {
   "cell_type": "code",
   "execution_count": null,
   "metadata": {},
   "outputs": [],
   "source": [
    "planets_info.plot(kind=\"barh\", logx=True)\n",
    "\n",
    "plt.show()"
   ]
  },
  {
   "cell_type": "code",
   "execution_count": null,
   "metadata": {},
   "outputs": [],
   "source": [
    "sns.set(font_scale=1.4)\n",
    "plt.figure(figsize=(20,60))\n",
    "\n",
    "for i, colname in enumerate(NUM_FEATURE_NAMES):\n",
    "    plt.subplot(9,2,i+1)\n",
    "    plt.title(colname)\n",
    "    sns.kdeplot(df_train.loc[df_train[TARGET_NAME] == 1, colname], shade=True, alpha=0.5, legend=False, color='r')\n",
    "    sns.kdeplot(df_train.loc[df_train[TARGET_NAME] == 0, colname], shade=True, legend=False, color='g')\n",
    "    \n",
    "plt.show()"
   ]
  },
  {
   "cell_type": "code",
   "execution_count": null,
   "metadata": {},
   "outputs": [],
   "source": [
    "sns.set(font_scale=1.4)\n",
    "plt.figure(figsize=(25,20))\n",
    "\n",
    "for i, colname in enumerate(CAT_FEATURE_NAMES):\n",
    "    plt.subplot(2,2,i+1)\n",
    "    plt.title(colname)\n",
    "    \n",
    "    val_counts_t1 = df_train.loc[df_train[TARGET_NAME] == 1, colname].value_counts()\n",
    "    val_counts_t0 = df_train.loc[df_train[TARGET_NAME] == 0, colname].value_counts()\n",
    "    \n",
    "    sns.barplot(val_counts_t1.values, val_counts_t1.index, alpha=0.8)\n",
    "    sns.barplot(val_counts_t0.values, val_counts_t0.index, alpha=0.5)\n",
    "    \n",
    "plt.show()"
   ]
  },
  {
   "cell_type": "code",
   "execution_count": null,
   "metadata": {},
   "outputs": [],
   "source": [
    "df_train['Maximum Open Credit'].quantile(.99)"
   ]
  },
  {
   "cell_type": "code",
   "execution_count": null,
   "metadata": {},
   "outputs": [],
   "source": []
  },
  {
   "cell_type": "code",
   "execution_count": null,
   "metadata": {},
   "outputs": [],
   "source": []
  },
  {
   "cell_type": "code",
   "execution_count": null,
   "metadata": {},
   "outputs": [],
   "source": []
  },
  {
   "cell_type": "code",
   "execution_count": null,
   "metadata": {},
   "outputs": [],
   "source": []
  }
 ],
 "metadata": {
  "kernelspec": {
   "display_name": "Python 3",
   "language": "python",
   "name": "python3"
  },
  "language_info": {
   "codemirror_mode": {
    "name": "ipython",
    "version": 3
   },
   "file_extension": ".py",
   "mimetype": "text/x-python",
   "name": "python",
   "nbconvert_exporter": "python",
   "pygments_lexer": "ipython3",
   "version": "3.7.3"
  }
 },
 "nbformat": 4,
 "nbformat_minor": 2
}
