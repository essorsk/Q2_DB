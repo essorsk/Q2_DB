{
 "cells": [
  {
   "cell_type": "code",
   "execution_count": null,
   "metadata": {},
   "outputs": [],
   "source": [
    "authors_stat = authors_price.groupby('author_name')['price'].agg(['min', 'max', 'mean']).rename(columns={\n",
    "    'min': 'min_price', 'max': 'max_price', 'mean': 'mean_price'}).apply(round)\n",
    "authors_stat             #Вариант 1"
   ]
  },
  {
   "cell_type": "code",
   "execution_count": null,
   "metadata": {},
   "outputs": [],
   "source": [
    "book_info = pd.pivot_table(authors_price, values = 'price', index =['author_name'], columns =['cover'], \n",
    "                           aggfunc= np.sum, fill_value=0)\n",
    "book_info"
   ]
  },
  {
   "cell_type": "code",
   "execution_count": null,
   "metadata": {},
   "outputs": [],
   "source": [
    "import pandas as pd\n",
    "import numpy as np\n",
    "\n",
    "pd.options.display.max_rows=100\n",
    "pd.options.display.max_columns=250\n",
    "\n",
    "import matplotlib.pyplot as plt\n",
    "import seaborn as sns\n",
    "sns.set(color_codes=True)\n",
    "sns.set()\n",
    "sns.set_palette('husl')\n",
    "\n",
    "from pylab import rcParams\n",
    "\n",
    "%matplotlib inline\n",
    "%config InlineBackend.figure_format = 'svg'\n",
    "\n",
    "import warnings\n",
    "warnings.filterwarnings('ignore')"
   ]
  },
  {
   "cell_type": "code",
   "execution_count": null,
   "metadata": {},
   "outputs": [],
   "source": [
    "time_series = pd.read_excel('time_series.xlsx', index_col='Дата')\n",
    "time_series.head(10)"
   ]
  },
  {
   "cell_type": "code",
   "execution_count": null,
   "metadata": {},
   "outputs": [],
   "source": [
    "time_series.describe()"
   ]
  },
  {
   "cell_type": "code",
   "execution_count": null,
   "metadata": {},
   "outputs": [],
   "source": [
    "def plot_ser(ser, x, y, title=\"\", xlabel='Дата', ylabel='Значение', dpi=100):\n",
    "    plt.figure(figsize=(12, 4), dpi=dpi)\n",
    "    plt.plot(x, y)\n",
    "    plt.gca().set(title=title, xlabel=xlabel, ylabel=ylabel)\n",
    "    plt.show()\n",
    "\n",
    "plot_ser(time_series, x=time_series.index, y=time_series['Значение'], title='Визуализация временного ряда')"
   ]
  },
  {
   "cell_type": "code",
   "execution_count": null,
   "metadata": {},
   "outputs": [],
   "source": [
    "time_series['год'] = [d.year for d in time_series.index]\n",
    "time_series['месяц'] = [d.strftime('%b') for d in time_series.index]\n",
    "годs = time_series['год'].unique()"
   ]
  },
  {
   "cell_type": "code",
   "execution_count": null,
   "metadata": {},
   "outputs": [],
   "source": [
    "time_series.head()"
   ]
  },
  {
   "cell_type": "code",
   "execution_count": null,
   "metadata": {},
   "outputs": [],
   "source": [
    "\n",
    "fig, axes = plt.subplots(1, 2, figsize=(12, 5), dpi= 80)\n",
    "sns.boxplot(x='год', y='Значение', data=time_series, ax=axes[0])\n",
    "sns.boxplot(x='месяц', y='Значение', data=time_series, ax=axes[1])\n",
    "\n",
    "axes[0].set_title('Распределение значения по годам\\n(Тенденция)', fontsize=18); \n",
    "axes[1].set_title('Распределение значения по месяцам\\n(Сезонность)', fontsize=18)\n",
    "plt.show()"
   ]
  },
  {
   "cell_type": "code",
   "execution_count": null,
   "metadata": {},
   "outputs": [],
   "source": [
    "#Посмотрим на динамику медианы и среднего значения в зависимости от года и месяца\n",
    "\n",
    "time_series.groupby('год')['Значение'].median().plot(kind='bar');"
   ]
  },
  {
   "cell_type": "code",
   "execution_count": null,
   "metadata": {},
   "outputs": [],
   "source": [
    "time_series.groupby('год')['Значение'].mean().plot(kind='bar');"
   ]
  },
  {
   "cell_type": "code",
   "execution_count": null,
   "metadata": {},
   "outputs": [],
   "source": []
  },
  {
   "cell_type": "code",
   "execution_count": null,
   "metadata": {},
   "outputs": [],
   "source": []
  },
  {
   "cell_type": "code",
   "execution_count": null,
   "metadata": {},
   "outputs": [],
   "source": [
    "#fillna\n",
    "x['embar'] = x['embar'].fillna(x['embar'].mode()[0])"
   ]
  },
  {
   "cell_type": "raw",
   "metadata": {},
   "source": [
    "#merge\n",
    "df_new = pd.megre(df1, df2, on ='sku', how = 'outer')"
   ]
  },
  {
   "cell_type": "code",
   "execution_count": null,
   "metadata": {},
   "outputs": [],
   "source": [
    "#return list of sku\n",
    "df_new['sku'].unique()\n",
    "\n",
    "#return count of sku\n",
    "df_new['sku'].nunique()"
   ]
  },
  {
   "cell_type": "code",
   "execution_count": null,
   "metadata": {},
   "outputs": [],
   "source": []
  },
  {
   "cell_type": "markdown",
   "metadata": {},
   "source": [
    "### Linear regression"
   ]
  },
  {
   "cell_type": "code",
   "execution_count": null,
   "metadata": {},
   "outputs": [],
   "source": [
    "%matplotlib inline\n",
    "import numpy as np\n",
    "from pylab import *"
   ]
  },
  {
   "cell_type": "code",
   "execution_count": null,
   "metadata": {},
   "outputs": [],
   "source": [
    "from scipy import stats\n",
    "\n",
    "slope, intercept, r_value, p_value, std_err = stats.linregress(date, sales)"
   ]
  },
  {
   "cell_type": "code",
   "execution_count": null,
   "metadata": {},
   "outputs": [],
   "source": [
    "import matplotlib.pyplot as plt\n",
    "\n",
    "def predict(x):\n",
    "    return slope * x + intercept\n",
    "\n",
    "fitLine = predict(date)\n",
    "\n",
    "plt.scatter(date, sales)\n",
    "plt.plot(date, fitLine, c='r')\n",
    "plt.show()"
   ]
  },
  {
   "cell_type": "code",
   "execution_count": null,
   "metadata": {},
   "outputs": [],
   "source": [
    "#more close to 1 is better\n",
    "r_value ** 2"
   ]
  },
  {
   "cell_type": "code",
   "execution_count": null,
   "metadata": {},
   "outputs": [],
   "source": []
  },
  {
   "cell_type": "markdown",
   "metadata": {},
   "source": [
    "### Polynomial Regression"
   ]
  },
  {
   "cell_type": "code",
   "execution_count": null,
   "metadata": {},
   "outputs": [],
   "source": [
    "x = np.array(date)\n",
    "y = np.array(sales)\n",
    "\n",
    "# 4 - is 4 degree polynimial fit\n",
    "p4 = np.poly1d(np.polyfit(x, y, 4))"
   ]
  },
  {
   "cell_type": "code",
   "execution_count": null,
   "metadata": {},
   "outputs": [],
   "source": [
    "# train point vs predicted point\n",
    "xp = np.linspace(0, 7, 100)\n",
    "plt.scatter(x, y)\n",
    "plt.plot(xp, p4(xp), c='r')\n",
    "plt.show()"
   ]
  },
  {
   "cell_type": "code",
   "execution_count": null,
   "metadata": {},
   "outputs": [],
   "source": [
    "from sklearn.metrics import r2_score\n",
    "\n",
    "r2 = r2_score(y, p4(x))\n",
    "\n",
    "print(r2)"
   ]
  },
  {
   "cell_type": "code",
   "execution_count": null,
   "metadata": {},
   "outputs": [],
   "source": [
    "import numpy as np\n",
    "import matplotlib.pyplot as plt\n",
    "import pandas as pd \n",
    "from sklearn.linear_model import LinearRegression\n",
    "#loading the dataset\n",
    "dataset= pd.read_csv(\"../input/Position_Salaries.csv\")\n",
    "X = dataset.iloc[:, 1:2].values\n",
    "y = dataset.iloc[:, -1].values\n",
    "\n",
    "#adding Polynomial for better fitting of data \n",
    "from sklearn.preprocessing import PolynomialFeatures\n",
    "poly = PolynomialFeatures(degree= 2)\n",
    "poly_features = poly.fit_transform(X)\n",
    "poly.fit(X,y)\n",
    "poly_regression = LinearRegression()\n",
    "poly_regression.fit(poly_features,y)\n",
    "#normal regression\n",
    "regressor=LinearRegression()\n",
    "regressor.fit(X,y)\n",
    "#ploting the data  \n",
    "plt.scatter(X,y)\n",
    "plt.plot(X,poly_regression.predict(poly_features))\n",
    "plt.title(\"PolyNomial Regression Experiance Vs Salary with degree 2 \")\n",
    "plt.xlabel(\"Experiance \")\n",
    "plt.ylabel(\"Salary data \")\n",
    "plt.show()\n",
    "#plotting linear hypothesis\n",
    "plt.scatter(X,y)\n",
    "plt.plot(X,regressor.predict(X))\n",
    "plt.title(\"Linear  Regression Experiance Vs Salary  \")\n",
    "plt.xlabel(\"Experiance \")\n",
    "plt.ylabel(\"Salary data \")\n",
    "plt.show() \n",
    "# higher degree\n",
    "# Adding Polynominals to the hypothesis \n",
    "poly = PolynomialFeatures(degree= 3)\n",
    "poly_features = poly.fit_transform(X)\n",
    "poly.fit(X,y)\n",
    "poly_regression = LinearRegression()\n",
    "poly_regression.fit(poly_features,y)\n",
    "#ploting the data  for polynomial regression \n",
    "plt.scatter(X,y)\n",
    "plt.plot(X,poly_regression.predict(poly_features))\n",
    "plt.title(\"PolyNomial Regression Experiance Vs Salary with degree 3 \")\n",
    "plt.xlabel(\"Experiance \")\n",
    "plt.ylabel(\"Salary data \")\n",
    "plt.show()\n",
    "#ploting the Linear regresson\n",
    "plt.scatter(X,y)\n",
    "plt.plot(X,regressor.predict(X))\n",
    "plt.title(\"Linear  Regression Experiance Vs Salary  \")\n",
    "plt.xlabel(\"Experiance \")\n",
    "plt.ylabel(\"Salary data \")\n",
    "plt.show()"
   ]
  },
  {
   "cell_type": "code",
   "execution_count": null,
   "metadata": {},
   "outputs": [],
   "source": [
    ">>> poly = PolynomialFeatures(2)\n",
    ">>> poly.fit_transform(X)\n",
    "array([[ 1.,  0.,  1.,  0.,  0.,  1.],\n",
    "       [ 1.,  2.,  3.,  4.,  6.,  9.],\n",
    "       [ 1.,  4.,  5., 16., 20., 25.]])\n",
    ">>> poly = PolynomialFeatures(interaction_only=True)\n",
    ">>> poly.fit_transform(X)\n",
    "array([[ 1.,  0.,  1.,  0.],\n",
    "       [ 1.,  2.,  3.,  6.],\n",
    "       [ 1.,  4.,  5., 20.]])"
   ]
  },
  {
   "cell_type": "code",
   "execution_count": null,
   "metadata": {},
   "outputs": [],
   "source": []
  },
  {
   "cell_type": "code",
   "execution_count": null,
   "metadata": {},
   "outputs": [],
   "source": [
    "\n",
    "import numpy as np\n",
    "import matplotlib.pyplot as plt\n",
    "import pandas as pd\n",
    "\n",
    "# Importing the dataset\n",
    "dataset = pd.read_csv('./Sample Data/PART 2. REGRESSION - Polynomial Regression - Polynomial_Regression/Polynomial_Regression/Position_Salaries.csv')\n",
    "X = dataset.iloc[:, 1:2].values\n",
    "y = dataset.iloc[:, 2].values\n",
    "\n",
    "# Splitting the dataset into the Training set and Test set\n",
    "from sklearn.model_selection import train_test_split \n",
    "X_train, X_test, y_train, y_test = train_test_split(X, y, test_size=0.2, random_state=0)\n",
    "\n",
    "\"\"\"\n",
    "# Scaling\n",
    "from sklearn.preprocessing import StandardScaler\n",
    "sc_X = StandardScaler()\n",
    "X_train = sc_X.fit_transform(X_train)\n",
    "X_test = sc_X.transform(X_test)\n",
    "\"\"\"\n",
    "\n",
    "# Fitting Linear Regression to the dataset\n",
    "from sklearn.linear_model import LinearRegression\n",
    "lin_reg = LinearRegression()\n",
    "lin_reg.fit(X, y)\n",
    "\n",
    "# Visualizing the Linear Regression results\n",
    "def viz_linear():\n",
    "    plt.scatter(X, y, color='red')\n",
    "    plt.plot(X, lin_reg.predict(X), color='blue')\n",
    "    plt.title('Truth or Bluff (Linear Regression)')\n",
    "    plt.xlabel('Position level')\n",
    "    plt.ylabel('Salary')\n",
    "    plt.show()\n",
    "    return\n",
    "viz_linear()\n",
    "\n",
    "# Fitting Polynomial Regression to the dataset\n",
    "from sklearn.preprocessing import PolynomialFeatures\n",
    "poly_reg = PolynomialFeatures(degree=4)\n",
    "X_poly = poly_reg.fit_transform(X)\n",
    "pol_reg = LinearRegression()\n",
    "pol_reg.fit(X_poly, y)\n",
    "\n",
    "# Visualizing the Polymonial Regression results\n",
    "def viz_polymonial():\n",
    "    plt.scatter(X, y, color='red')\n",
    "    plt.plot(X, pol_reg.predict(poly_reg.fit_transform(X)), color='blue')\n",
    "    plt.title('Truth or Bluff (Linear Regression)')\n",
    "    plt.xlabel('Position level')\n",
    "    plt.ylabel('Salary')\n",
    "    plt.show()\n",
    "    return\n",
    "viz_polymonial()\n",
    "\n",
    "# Additional feature\n",
    "# Making the plot line (Blue one) more smooth\n",
    "def viz_polymonial_smooth():\n",
    "    X_grid = np.arange(min(X), max(X), 0.1)\n",
    "    X_grid = X_grid.reshape(len(X_grid), 1) #Why do we need to reshape? (https://www.tutorialspoint.com/numpy/numpy_reshape.htm)\n",
    "    # Visualizing the Polymonial Regression results\n",
    "    plt.scatter(X, y, color='red')\n",
    "    plt.plot(X_grid, pol_reg.predict(poly_reg.fit_transform(X_grid)), color='blue')\n",
    "    plt.title('Truth or Bluff (Linear Regression)')\n",
    "    plt.xlabel('Position level')\n",
    "    plt.ylabel('Salary')\n",
    "    plt.show()\n",
    "    return\n",
    "viz_polymonial_smooth()\n",
    "\n",
    "# Predicting a new result with Linear Regression\n",
    "lin_reg.predict([[5.5]])\n",
    "#output should be 249500\n",
    "\n",
    "# Predicting a new result with Polymonial Regression\n",
    "pol_reg.predict(poly_reg.fit_transform([[5.5]]))\n",
    "#output should be 132148.43750003\n"
   ]
  },
  {
   "cell_type": "code",
   "execution_count": null,
   "metadata": {},
   "outputs": [],
   "source": [
    "#too much code\n",
    "https://mlcourse.ai/articles/topic9-part1-time-series/"
   ]
  },
  {
   "cell_type": "code",
   "execution_count": null,
   "metadata": {},
   "outputs": [],
   "source": [
    "# machine learning in two lines\n",
    "lr = LinearRegression()\n",
    "lr.fit(X_train, y_train)\n",
    "prediction = lr.predict(X_test)"
   ]
  },
  {
   "cell_type": "code",
   "execution_count": null,
   "metadata": {},
   "outputs": [],
   "source": []
  },
  {
   "cell_type": "code",
   "execution_count": null,
   "metadata": {},
   "outputs": [],
   "source": []
  },
  {
   "cell_type": "code",
   "execution_count": null,
   "metadata": {},
   "outputs": [],
   "source": []
  }
 ],
 "metadata": {
  "kernelspec": {
   "display_name": "Python 3",
   "language": "python",
   "name": "python3"
  },
  "language_info": {
   "codemirror_mode": {
    "name": "ipython",
    "version": 3
   },
   "file_extension": ".py",
   "mimetype": "text/x-python",
   "name": "python",
   "nbconvert_exporter": "python",
   "pygments_lexer": "ipython3",
   "version": "3.7.3"
  }
 },
 "nbformat": 4,
 "nbformat_minor": 2
}
